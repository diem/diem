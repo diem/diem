{
 "cells": [
  {
   "cell_type": "markdown",
   "id": "israeli-cambridge",
   "metadata": {},
   "source": [
    "# Benchmarking ADT struct representation vs Vector struct representation\n",
    "\n",
    "This notebook compares the representation of structures on Boogie level as:\n",
    "\n",
    "- Vectors of the universal `$Value` type. Values for all fields are represented in boxed ($Value) representation. \n",
    "  Selecting and updating fields amounts to vector indexing. On select/update values need to be unboxed/boxed.\n",
    "- Abstract data types. Values of fields are stored in unboxed representation unless their type is generic. Equality on universal\n",
    "  values has to be implemented by a large case distinction of the multiple ADT variants. However, equality is extensional unless\n",
    "  a struct contains a transient field of vector type, which breaks extensionality.\n",
    "\n",
    "\n",
    "## Preparation\n",
    "\n",
    "Load the prover-lab crate. This may take *long* (minutes) the first time the Jupyter server is started because it compiles a lot  Rust sources."
   ]
  },
  {
   "cell_type": "code",
   "execution_count": null,
   "id": "bridal-deputy",
   "metadata": {
    "tags": []
   },
   "outputs": [],
   "source": [
    ":sccache 1\n",
    ":dep prover-lab = { path = \"../..\" }"
   ]
  },
  {
   "cell_type": "markdown",
   "id": "minimal-quilt",
   "metadata": {},
   "source": [
    "Make functions from the benchmark module available:"
   ]
  },
  {
   "cell_type": "code",
   "execution_count": null,
   "id": "accepting-reminder",
   "metadata": {},
   "outputs": [],
   "source": [
    "use prover_lab::benchmark::*;"
   ]
  },
  {
   "cell_type": "markdown",
   "id": "homeless-traffic",
   "metadata": {},
   "source": [
    "## Module Verification Time\n"
   ]
  },
  {
   "cell_type": "code",
   "execution_count": null,
   "id": "received-health",
   "metadata": {},
   "outputs": [],
   "source": [
    "let mut struct_as_vec_mod = read_benchmark(\"struct_as_vec.mod_data\")?;\n",
    "let mut struct_as_adt_mod = read_benchmark(\"struct_as_adt.mod_data\")?;\n",
    "struct_as_vec_mod.sort(); // Will also determine order of other samples.\n",
    "plot_benchmarks(&[&struct_as_vec_mod, &struct_as_adt_mod])"
   ]
  },
  {
   "cell_type": "markdown",
   "id": "coordinate-rainbow",
   "metadata": {},
   "source": [
    "## Top 20 by Function"
   ]
  },
  {
   "cell_type": "code",
   "execution_count": null,
   "id": "monthly-newman",
   "metadata": {},
   "outputs": [],
   "source": [
    "let mut struct_as_vec_fun = read_benchmark(\"struct_as_vec.fun_data\")?;\n",
    "let mut struct_as_adt_fun = read_benchmark(\"struct_as_adt.fun_data\")?;\n",
    "struct_as_vec_fun.sort(); // Will also determine order of other samples.\n",
    "struct_as_vec_fun.take(20);\n",
    "plot_benchmarks(&[&struct_as_vec_fun, &struct_as_adt_fun])"
   ]
  },
  {
   "cell_type": "code",
   "execution_count": null,
   "id": "flying-climate",
   "metadata": {},
   "outputs": [],
   "source": []
  }
 ],
 "metadata": {
  "kernelspec": {
   "display_name": "Rust",
   "language": "rust",
   "name": "rust"
  },
  "language_info": {
   "codemirror_mode": "rust",
   "file_extension": ".rs",
   "mimetype": "text/rust",
   "name": "Rust",
   "pygment_lexer": "rust",
   "version": ""
  }
 },
 "nbformat": 4,
 "nbformat_minor": 5
}
